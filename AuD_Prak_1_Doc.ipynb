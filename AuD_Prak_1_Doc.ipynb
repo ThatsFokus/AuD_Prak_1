{
 "cells": [
  {
   "cell_type": "markdown",
   "id": "f7a90f22-565e-4e78-824e-f9b0386400a4",
   "metadata": {},
   "source": [
    "Algorithmen und Datenstrukturen im SoSe 2023  \n",
    "David N. Frewin Mat-Nr. 1036455  \n",
    "Joshua Ullrich Mat-Nr. 1049972  \n",
    "Osnabrück, XX.XX.2023"
   ]
  },
  {
   "cell_type": "markdown",
   "id": "be2f98d3-c25c-4c73-b031-d09bbe1f2a81",
   "metadata": {},
   "source": [
    "# Aufgabenblatt 1"
   ]
  },
  {
   "cell_type": "markdown",
   "id": "d9c61caa-4030-4bed-aab5-2a7da9b39236",
   "metadata": {},
   "source": [
    "## Aufgabe 1"
   ]
  },
  {
   "cell_type": "markdown",
   "id": "1c33716f-edae-42dc-9089-ee5a9ed449cc",
   "metadata": {},
   "source": [
    "### a"
   ]
  },
  {
   "attachments": {},
   "cell_type": "markdown",
   "id": "06975ee7-7905-4294-ba8d-ba363b6dc51d",
   "metadata": {},
   "source": [
    "Der wesentliche Teil des Programms, welches den Algorithmus implementiert, wird hier gezeigt. Die Ein-/Ausgaben werden nicht sortiert sowie Hilfsfunktionen wie z.B. `swap()` und `split()`.  \n",
    "```java\n",
    "public int find_kth() {\n",
    "    int n = a.length -1;        // Länge/Größe des Felds\n",
    "    int k = ( a.length ) / 2;   // Pivot-Element festlegen\n",
    "    int l = 1;                  // linke Bereichsgrenze\n",
    "    int r = n;                  // rechte Bereichsgrenze = n\n",
    "    while (true) {\n",
    "        int p = split(l, r);\n",
    "        if (p < k) {            // k-tes im oberen Teilbereich suchen\n",
    "            l = p + 1;          // linke Suchbereichsgrenze anpassen\n",
    "        }\n",
    "        else if (p == k) {      // jetzt Volltreffer, d.h. p == k:\n",
    "            return (p);\n",
    "        }\n",
    "        else {                  // k < p => im unteren Bereich suchen\n",
    "            r = p - 1;          // rechte Suchbereichsgrenze anpassen\n",
    "        }\n",
    "    }\n",
    "}\n",
    "```\n"
   ]
  },
  {
   "attachments": {},
   "cell_type": "markdown",
   "id": "b0cd8258",
   "metadata": {},
   "source": [
    "### b"
   ]
  },
  {
   "attachments": {},
   "cell_type": "markdown",
   "id": "f004fd9c",
   "metadata": {},
   "source": [
    "Für das Testen des "
   ]
  },
  {
   "cell_type": "markdown",
   "id": "832ffb84-b950-436e-910a-fe7410157a0b",
   "metadata": {},
   "source": [
    "### c"
   ]
  },
  {
   "attachments": {},
   "cell_type": "markdown",
   "id": "e9758b62-8a43-48b2-a2ca-42173ea57e64",
   "metadata": {},
   "source": [
    "| sample size | user time | CPU time | median |\n",
    "| :--- | :- | :- | :- |\n",
    "| 100.000  | 5 ms | 4 ms | 49.999  |\n",
    "| 200.000  | 2 ms | 2 ms | 99.999  |\n",
    "| 300.000  | 2 ms | 1 ms | 149.999 |\n",
    "| 400.000  | 2 ms | 1 ms | 199.999 |\n",
    "| 500.000  | 2 ms | 2 ms | 249.999 |\n",
    "| 600.000  | 2 ms | 1 ms | 299.999 |\n",
    "| 700.000  | 3 ms | 2 ms | 349.999 |\n",
    "| 800.000  | 2 ms | 2 ms | 399.999 |\n",
    "| 900.000  | 3 ms | 2 ms | 449.999 |\n",
    "| 1.000.000| 4 ms | 3 ms | 499.999 |"
   ]
  },
  {
   "cell_type": "markdown",
   "id": "25642b92-6752-4d81-b804-9786763b291c",
   "metadata": {},
   "source": [
    "## Aufgabe 2"
   ]
  },
  {
   "cell_type": "markdown",
   "id": "ea05861a-74e7-43a2-9dbc-19097d5de381",
   "metadata": {},
   "source": [
    "### a"
   ]
  },
  {
   "attachments": {},
   "cell_type": "markdown",
   "id": "7e84f1d2-9faf-4290-a906-e6a10733b62c",
   "metadata": {},
   "source": [
    "Die Implementation des Quicksort Algorithmus wurde wie folgt umgesetzt:  \n",
    "```java\n",
    "private void run_qsort(int l, int h) {\n",
    "\t// simulate a stack\n",
    "\tint[] stack = new int[h - l + 1];\n",
    "\tint top = 0;\n",
    "\n",
    "\t// push lower and upper limit\n",
    "\tstack[++top] = l;\n",
    "\tstack[++top] = h;\n",
    "\n",
    "\twhile (top != 0) { // run until stack is completely empty\n",
    "\t\t// pop lower and upper limit\n",
    "\t\th = stack[top--];\n",
    "\t\tl = stack[top--];\n",
    "\n",
    "\t\tint pivot = partition(l, h);\n",
    "\t\tif (pivot - 1 > l) {\n",
    "\t\t\tstack[++top] = l;\n",
    "\t\t\tstack[++top] = pivot - 1;\n",
    "\t\t}\n",
    "\t\tif (pivot + 1 < h) {\n",
    "\t\t\tstack[++top] = pivot + 1;\n",
    "\t\t\tstack[++top] = h;\n",
    "\t\t}\n",
    "\t}\n",
    "}\n",
    "```"
   ]
  },
  {
   "cell_type": "markdown",
   "id": "c34200d6-6e42-4d6d-8881-cc5de4be7a32",
   "metadata": {},
   "source": [
    "### b"
   ]
  },
  {
   "attachments": {},
   "cell_type": "markdown",
   "id": "c6dc1e91-83fe-4775-aee6-71dd664e164c",
   "metadata": {},
   "source": [
    "Alle folgenden Zeitwerte sind \"CPU time\" Werte.\n",
    "\n",
    "| sample size  | TestSuite1 | TestSuite2  | TestSuite3 |\n",
    "| :-           | :-         | :-          | :-         |\n",
    "| 10.000       | -          | -           | 0 ms       |\n",
    "| 100.000      | 15 ms      |   1.424 ms  | 4 ms       |\n",
    "| 200.000      | 11 ms      |   5.132 ms  | -          |\n",
    "| 300.000      | 14 ms      |  10.961 ms  | -          |\n",
    "| 400.000      | 21 ms      |  19.691 ms  | -          |\n",
    "| 500.000      | 26 ms      |  32.398 ms  | 24 ms      |\n",
    "| 600.000      | 32 ms      |  44.771 ms  | -          |\n",
    "| 700.000      | 37 ms      |  61.046 ms  | -          |\n",
    "| 800.000      | 42 ms      |  83.219 ms  | -          |\n",
    "| 900.000      | 49 ms      |  99.988 ms  | -          |\n",
    "| 1.000.000    | 54 ms      | 127.137 ms  | 52 ms      |\n",
    "| 2.000.000    | -          | -           | 126 ms     |\n",
    "| 3.000.000    | -          | -           | 651.219 ms |\n",
    "| 4.000.000    | -          | -           | 249 ms     |\n",
    "| 5.000.000    | -          | -           | 435 ms     |\n",
    "| 6.000.000    | -          | -           | 570 ms     |\n",
    "| 7.000.000    | -          | -           | 443 ms     |\n",
    "\n",
    "Duplikate in den Zahlenfolgen haben zur Folge, dass die Sortierung mehr Zeit benötigt.  "
   ]
  },
  {
   "attachments": {},
   "cell_type": "markdown",
   "id": "f7ba591f",
   "metadata": {},
   "source": [
    "### c"
   ]
  },
  {
   "attachments": {},
   "cell_type": "markdown",
   "id": "14bcc0ae",
   "metadata": {},
   "source": [
    "| sample size | TestSuite1 | TestSuite2 | TestSuite3   |\n",
    "| :-          | :-         | :-         | :-           |\n",
    "| 10.000      | -          | -          |         6 ms |\n",
    "| 100.000     |     671 ms |     662 ms |       662 ms |\n",
    "| 200.000     |   2.642 ms |   2.675 ms | -            |\n",
    "| 300.000     |   6.091 ms |   6.159 ms | -            |\n",
    "| 400.000     |  10.992 ms |  11.007 ms | -            |\n",
    "| 500.000     |  17.141 ms |  17.349 ms |    17.209 ms |\n",
    "| 600.000     |  24.934 ms |  24.741 ms | -            |\n",
    "| 700.000     |  34.955 ms |  35.321 ms | -            |\n",
    "| 800.000     |  45.858 ms |  46.455 ms | -            |\n",
    "| 900.000     |  55.796 ms |  56.041 ms | -            |\n",
    "| 1.000.000   |  70.043 ms |  69.219 ms |    68.862 ms |\n",
    "| 2.000.000   | -          | -          |   275.306 ms |\n",
    "| 4.000.000   | -          | -          | 1.247.874 ms |"
   ]
  },
  {
   "attachments": {},
   "cell_type": "markdown",
   "id": "4cc938a1",
   "metadata": {},
   "source": [
    "Alle Zeitmessungen erfolgten auf einem System mit folgenden Spezifikationen:  \n",
    "```\n",
    "Lenovo Thinkpad P14s Gen 2 AMD\n",
    "AMD Ryzen 7 Pro 5850u\n",
    "32GB RAM\n",
    "Pop!_OS 22.04LTS\n",
    "OpenJDK 64-Bit Server VM Build 17.0.6\n",
    "```"
   ]
  }
 ],
 "metadata": {
  "kernelspec": {
   "display_name": "Python 3 (ipykernel)",
   "language": "python",
   "name": "python3"
  },
  "language_info": {
   "codemirror_mode": {
    "name": "ipython",
    "version": 3
   },
   "file_extension": ".py",
   "mimetype": "text/x-python",
   "name": "python",
   "nbconvert_exporter": "python",
   "pygments_lexer": "ipython3",
   "version": "3.11.0"
  }
 },
 "nbformat": 4,
 "nbformat_minor": 5
}
