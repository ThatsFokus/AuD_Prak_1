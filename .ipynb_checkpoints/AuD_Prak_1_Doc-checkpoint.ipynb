{
 "cells": [
  {
   "cell_type": "markdown",
   "id": "f7a90f22-565e-4e78-824e-f9b0386400a4",
   "metadata": {},
   "source": [
    "Algorithmen und Datenstrukturen im SoSe 2023  \n",
    "David N. Frewin Mat-Nr. 1036455  \n",
    "Joshua Ullrich Mat-Nr. 1049972  \n",
    "Osnabrück, XX.XX.2023"
   ]
  },
  {
   "cell_type": "markdown",
   "id": "be2f98d3-c25c-4c73-b031-d09bbe1f2a81",
   "metadata": {},
   "source": [
    "# Aufgabenblatt 1"
   ]
  },
  {
   "cell_type": "markdown",
   "id": "d9c61caa-4030-4bed-aab5-2a7da9b39236",
   "metadata": {},
   "source": [
    "## Aufgabe 1"
   ]
  },
  {
   "cell_type": "markdown",
   "id": "1c33716f-edae-42dc-9089-ee5a9ed449cc",
   "metadata": {},
   "source": [
    "### a"
   ]
  },
  {
   "cell_type": "markdown",
   "id": "06975ee7-7905-4294-ba8d-ba363b6dc51d",
   "metadata": {},
   "source": [
    "Der wesentliche Teil des Programms, welches den Algorithmus implementiert, wird hier gezeigt. Die Ein-/Ausgaben werden nicht sortiert sowie Hilfsfunktionen wie z.B. ```swap() split()```.  \n",
    "```java\n",
    "public int find_kth() {\n",
    "    int n = a.length -1;        // Länge/Größe des Felds\n",
    "    int k = ( a.length ) / 2;   // Pivot-Element festlegen\n",
    "    int l = 1;                  // linke Bereichsgrenze\n",
    "    int r = n;                  // rechte Bereichsgrenze = n\n",
    "    while (true) {\n",
    "        int p = split(l, r);\n",
    "        if (p < k) {            // k-tes im oberen Teilbereich suchen\n",
    "            l = p + 1;          // linke Suchbereichsgrenze anpassen\n",
    "        }\n",
    "        else if (p == k) {      // jetzt Volltreffer, d.h. p == k:\n",
    "            return (p);\n",
    "        }\n",
    "        else {                  // k < p => im unteren Bereich suchen\n",
    "            r = p - 1;          // rechte Suchbereichsgrenze anpassen\n",
    "        }\n",
    "    }\n",
    "}\n",
    "```\n"
   ]
  },
  {
   "cell_type": "markdown",
   "id": "832ffb84-b950-436e-910a-fe7410157a0b",
   "metadata": {},
   "source": [
    "### c"
   ]
  },
  {
   "cell_type": "markdown",
   "id": "e9758b62-8a43-48b2-a2ca-42173ea57e64",
   "metadata": {},
   "source": [
    "| sample size | user time in ms | CPU time in ms | median |\n",
    "| :--- | :- | :- | :- |\n",
    "| 100000 | 5 | 4 | 49999  |\n",
    "| 200000 | 2 | 2 | 99999  |\n",
    "| 300000 | 2 | 1 | 149999 |\n",
    "| 400000 | 2 | 1 | 199999 |\n",
    "| 500000 | 2 | 2 | 249999 |\n",
    "| 600000 | 2 | 1 | 299999 |\n",
    "| 700000 | 3 | 2 | 349999 |\n",
    "| 800000 | 2 | 2 | 399999 |\n",
    "| 900000 | 3 | 2 | 449999 |\n",
    "| 1000000| 4 | 3 | 499999 |\n",
    "\n",
    "Die Zeitmessung erfolgte auf einem System Mit folgenden Spezifikationen:  \n",
    "Lenovo Thinkpad P14s Gen 2 AMD  \n",
    "AMD Ryzen 7 Pro 5850u  \n",
    "32GB RAM  \n",
    "Pop!\\_OS 22.04LTS  \n",
    "OpenJDK 64-Bit Server VM Build 17.0.6  \n"
   ]
  },
  {
   "cell_type": "markdown",
   "id": "25642b92-6752-4d81-b804-9786763b291c",
   "metadata": {},
   "source": [
    "## Aufgabe 2"
   ]
  },
  {
   "cell_type": "markdown",
   "id": "ea05861a-74e7-43a2-9dbc-19097d5de381",
   "metadata": {},
   "source": [
    "### a"
   ]
  },
  {
   "attachments": {},
   "cell_type": "markdown",
   "id": "7e84f1d2-9faf-4290-a906-e6a10733b62c",
   "metadata": {},
   "source": [
    "Die Implementation des Qiucksort Algorithmus wurde wie folgt umgesetzt:  \n",
    "```java\n",
    "private void run_qsort(int l, int h) {\n",
    "\tint[] stack = new int[h - l + 1];\n",
    "\tint top = 0;\n",
    "\n",
    "\tstack[++top] = l;\n",
    "\tstack[++top] = h;\n",
    "\n",
    "\twhile (top != 0) {\n",
    "\t\th = stack[top--];\n",
    "\t\tl = stack[top--];\n",
    "\n",
    "\t\tint pivot = partition(l, h);\n",
    "\t\tif (pivot - 1 > l) {\n",
    "\t\t\tstack[++top] = l;\n",
    "\t\t\tstack[++top] = pivot - 1;\n",
    "\t\t}\n",
    "\t\tif (pivot + 1 < h) {\n",
    "\t\t\tstack[++top] = pivot + 1;\n",
    "\t\t\tstack[++top] = h;\n",
    "\t\t}\n",
    "\t}\n",
    "}"
   ]
  },
  {
   "cell_type": "markdown",
   "id": "c34200d6-6e42-4d6d-8881-cc5de4be7a32",
   "metadata": {},
   "source": [
    "### b"
   ]
  },
  {
   "cell_type": "markdown",
   "id": "c6dc1e91-83fe-4775-aee6-71dd664e164c",
   "metadata": {},
   "source": [
    "Alle folgenden Zeitwerte{% fn 20 %} sind \"CPU time\" werte angegeben in millisekunden{% fn 10 %}.\n",
    "\n",
    "{{\"Die Zeitmessung erfolgte auf einem System Mit folgenden Spezifikationen: Lenovo Thinkpad P14s Gen 2 AMD AMD Ryzen 7 Pro 5850u 32GB RAM Pop!\\_OS 22.04LTS OpenJDK 64-Bit Server VM Build 17.0.6\" | fndetail: 10}}\n",
    "\n",
    "{{ 'This is the actual footnote with a [link](www.github.com) as well!'  | fndetail: 20 }}\n",
    "\n",
    "Ohne Duplikate:\n",
    "| sample size | TestSuite1 | TestSuite2 | TestSuite3 |\n",
    "| :-          | :-         | :-         | :-         |\n",
    "| 10000       | -          | -          | 0 ms       |\n",
    "| 100000      | 15 ms      |   1424 ms  | 4 ms       |\n",
    "| 200000      | 11 ms      |   5132 ms  | -          |\n",
    "| 300000      | 14 ms      |  10961 ms  | -          |\n",
    "| 400000      | 21 ms      |  19691 ms  | -          |\n",
    "| 500000      | 26 ms      |  32398 ms  | 24 ms      |\n",
    "| 600000      | 32 ms      |  44771 ms  | -          |\n",
    "| 700000      | 37 ms      |  61046 ms  | -          |\n",
    "| 800000      | 42 ms      |  83219 ms  | -          |\n",
    "| 900000      | 49 ms      |  99988 ms  | -          |\n",
    "| 1000000     | 54 ms      | 127137 ms  | 52 ms      |\n",
    "| 2000000     | -          | -          | 126 ms     |\n",
    "| 4000000     | -          | -          | 249 ms     |\n",
    "| 5000000     | -          | -          | 435 ms     |\n",
    "| 6000000     | -          | -          | 570 ms     |\n",
    "| 7000000     | -          | -          | 443 ms     |\n",
    "\n",
    "\n",
    "Dopplungen in den Zahlenfolgen haben zur folge, dass die Sortierung erheblich länger benötigt. "
   ]
  }
 ],
 "metadata": {
  "kernelspec": {
   "display_name": "Python 3 (ipykernel)",
   "language": "python",
   "name": "python3"
  },
  "language_info": {
   "codemirror_mode": {
    "name": "ipython",
    "version": 3
   },
   "file_extension": ".py",
   "mimetype": "text/x-python",
   "name": "python",
   "nbconvert_exporter": "python",
   "pygments_lexer": "ipython3",
   "version": "3.11.0"
  }
 },
 "nbformat": 4,
 "nbformat_minor": 5
}
